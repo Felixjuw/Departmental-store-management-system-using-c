{
  "nbformat": 4,
  "nbformat_minor": 0,
  "metadata": {
    "colab": {
      "provenance": [],
      "authorship_tag": "ABX9TyNc3aM/oZ4h6u0zfHRqJAVv",
      "include_colab_link": true
    },
    "kernelspec": {
      "name": "python3",
      "display_name": "Python 3"
    },
    "language_info": {
      "name": "python"
    }
  },
  "cells": [
    {
      "cell_type": "markdown",
      "metadata": {
        "id": "view-in-github",
        "colab_type": "text"
      },
      "source": [
        "<a href=\"https://colab.research.google.com/github/Felixjuw/Departmental-store-management-system-using-c/blob/master/lab_sc_01.ipynb\" target=\"_parent\"><img src=\"https://colab.research.google.com/assets/colab-badge.svg\" alt=\"Open In Colab\"/></a>"
      ]
    },
    {
      "cell_type": "code",
      "execution_count": 9,
      "metadata": {
        "colab": {
          "base_uri": "https://localhost:8080/"
        },
        "id": "6eMCTW2B5fow",
        "outputId": "1361600e-bfc6-423e-aeb5-fb82123a382e"
      },
      "outputs": [
        {
          "output_type": "execute_result",
          "data": {
            "text/plain": [
              "array([1, 2, 3])"
            ]
          },
          "metadata": {},
          "execution_count": 9
        }
      ],
      "source": [
        "import numpy as np\n",
        "x=np.array([1,2,3])\n",
        "x"
      ]
    },
    {
      "cell_type": "code",
      "source": [
        "import numpy as np\n",
        "y=np.array([[1,2,3],[9,2,7]])\n",
        "y"
      ],
      "metadata": {
        "colab": {
          "base_uri": "https://localhost:8080/"
        },
        "id": "sp3NtSOX_l27",
        "outputId": "9920cb36-26a5-4c90-f58b-c2c6ff3c328f"
      },
      "execution_count": 18,
      "outputs": [
        {
          "output_type": "execute_result",
          "data": {
            "text/plain": [
              "array([[1, 2, 3],\n",
              "       [9, 2, 7]])"
            ]
          },
          "metadata": {},
          "execution_count": 18
        }
      ]
    },
    {
      "cell_type": "code",
      "source": [
        "def my_Adder(a,b,c):\n",
        "  \"\"\"function to sum the 3 numbers \n",
        "  Input:3 numbers a,b,c\n",
        "  Output:the sum of a,b,and c\n",
        "  author:\n",
        "  date:\n",
        "  \"\"\"\n",
        "  #this is the summation\n",
        "  out=a+b+c\n",
        "  return out\n"
      ],
      "metadata": {
        "id": "NYdR4YPP_9vg"
      },
      "execution_count": 24,
      "outputs": []
    },
    {
      "cell_type": "code",
      "source": [
        "print(my_Adder(3,4,5))\n",
        "help(my_Adder)"
      ],
      "metadata": {
        "colab": {
          "base_uri": "https://localhost:8080/"
        },
        "id": "_T7YaCs0An36",
        "outputId": "5f887b1c-79ca-47a2-ace9-b3ba107f81eb"
      },
      "execution_count": 44,
      "outputs": [
        {
          "output_type": "stream",
          "name": "stdout",
          "text": [
            "12\n",
            "Help on function my_Adder in module __main__:\n",
            "\n",
            "my_Adder(a, b, c)\n",
            "    function to sum the 3 numbers \n",
            "    Input:3 numbers a,b,c\n",
            "    Output:the sum of a,b,and c\n",
            "    author:\n",
            "    date:\n",
            "\n"
          ]
        }
      ]
    },
    {
      "cell_type": "code",
      "source": [
        "def my_thermo_stat(temp,desired_temp):\n",
        "  if temp<desired_temp-5:\n",
        "    status='Heat'\n",
        "  elif temp>desired_temp+5:\n",
        "    status='AC'\n",
        "  else:\n",
        "    status='off'\n",
        "  return status"
      ],
      "metadata": {
        "id": "7ptmnFUfC9ik"
      },
      "execution_count": 31,
      "outputs": []
    },
    {
      "cell_type": "code",
      "source": [
        "status=my_thermo_stat(65,75)\n",
        "print(status)"
      ],
      "metadata": {
        "colab": {
          "base_uri": "https://localhost:8080/"
        },
        "id": "uRDw6jpHDv1G",
        "outputId": "8c93ee00-9db8-451a-cf4d-a6ae97d4190e"
      },
      "execution_count": 32,
      "outputs": [
        {
          "output_type": "stream",
          "name": "stdout",
          "text": [
            "Heat\n"
          ]
        }
      ]
    },
    {
      "cell_type": "code",
      "source": [
        "status=my_thermo_stat(75,65)\n",
        "print(status)"
      ],
      "metadata": {
        "colab": {
          "base_uri": "https://localhost:8080/"
        },
        "id": "JK9GVWH8D6oX",
        "outputId": "ff1ef2e4-f647-4c00-a7be-ea4b692245c3"
      },
      "execution_count": 33,
      "outputs": [
        {
          "output_type": "stream",
          "name": "stdout",
          "text": [
            "AC\n"
          ]
        }
      ]
    },
    {
      "cell_type": "code",
      "source": [
        "status=my_thermo_stat(65,63)\n",
        "print(status)"
      ],
      "metadata": {
        "colab": {
          "base_uri": "https://localhost:8080/"
        },
        "id": "9shaofwqEAVO",
        "outputId": "42d49449-4b84-4a12-8eb2-9c5de5d0b322"
      },
      "execution_count": 34,
      "outputs": [
        {
          "output_type": "stream",
          "name": "stdout",
          "text": [
            "off\n"
          ]
        }
      ]
    },
    {
      "cell_type": "code",
      "source": [
        "x=3\n",
        "if x>1 and x<2:\n",
        "  y=2\n",
        "elif x>2 and x<4:\n",
        "  y=4\n",
        "else:\n",
        "  y=0\n",
        "print(y)"
      ],
      "metadata": {
        "colab": {
          "base_uri": "https://localhost:8080/"
        },
        "id": "SlAA32OkFXtw",
        "outputId": "7abd743a-2647-463f-e940-1965424f521b"
      },
      "execution_count": 1,
      "outputs": [
        {
          "output_type": "stream",
          "name": "stdout",
          "text": [
            "4\n"
          ]
        }
      ]
    },
    {
      "cell_type": "code",
      "source": [
        "x=3\n",
        "if 1<x<2:\n",
        "    y=2\n",
        "elif 2<x<4:\n",
        "    y=4\n",
        "else:\n",
        "  y=0\n",
        "print(y)\n",
        "\n"
      ],
      "metadata": {
        "colab": {
          "base_uri": "https://localhost:8080/"
        },
        "id": "F5Vzbld7F4Cr",
        "outputId": "c25a19ac-0100-4d12-e06c-7d2087a4e6bc"
      },
      "execution_count": 2,
      "outputs": [
        {
          "output_type": "stream",
          "name": "stdout",
          "text": [
            "4\n"
          ]
        }
      ]
    },
    {
      "cell_type": "code",
      "source": [
        "x = 35e3\n",
        "y = \"Halleluya\"\n",
        "z = +1.0j\n",
        "\n",
        "print(type(x))\n",
        "print(type(y))\n",
        "print(type(z))"
      ],
      "metadata": {
        "colab": {
          "base_uri": "https://localhost:8080/"
        },
        "id": "NwW3r8dR7WUZ",
        "outputId": "79ac9319-249d-44e1-c72d-b04da9b71386"
      },
      "execution_count": 40,
      "outputs": [
        {
          "output_type": "stream",
          "name": "stdout",
          "text": [
            "<class 'float'>\n",
            "<class 'str'>\n",
            "<class 'complex'>\n"
          ]
        }
      ]
    }
  ]
}